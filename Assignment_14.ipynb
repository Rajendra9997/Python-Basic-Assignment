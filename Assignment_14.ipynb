{
 "cells": [
  {
   "cell_type": "raw",
   "id": "bfa36c90",
   "metadata": {},
   "source": [
    "Q1. What does RGBA stand for?"
   ]
  },
  {
   "cell_type": "markdown",
   "id": "e5307465",
   "metadata": {},
   "source": [
    "Answer:- RGBA stands for red, green, blue, and alpha. An RGBA value is a tuple of 4 integers, each ranging from 0 to 255. The four integers correspond to the amount of red, green, blue, and alpha (transparency) in the color ."
   ]
  },
  {
   "cell_type": "raw",
   "id": "34122c98",
   "metadata": {},
   "source": [
    "Q2.From the Pillow module, how do you get the RGBA value of any images?"
   ]
  },
  {
   "cell_type": "markdown",
   "id": "30b99c0c",
   "metadata": {},
   "source": [
    "Answer:- ImageColor.getcolor() gives rgba value of any image."
   ]
  },
  {
   "cell_type": "code",
   "execution_count": 3,
   "id": "60d95a64",
   "metadata": {},
   "outputs": [
    {
     "data": {
      "text/plain": [
       "(255, 0, 0, 255)"
      ]
     },
     "execution_count": 3,
     "metadata": {},
     "output_type": "execute_result"
    }
   ],
   "source": [
    "#EXAMPLE\n",
    "from PIL import ImageColor\n",
    "ImageColor.getcolor('blue', 'RGBA')\n",
    "ImageColor.getcolor('red', 'RGBA')"
   ]
  },
  {
   "cell_type": "raw",
   "id": "083ea020",
   "metadata": {},
   "source": [
    "Q3. What is a box tuple, and how does it work?"
   ]
  },
  {
   "cell_type": "markdown",
   "id": "6e5544ca",
   "metadata": {},
   "source": [
    "Answer:- A box tuple is a tuple value of four integers: the left-edge x-coordinate, the top-edge y-coordinate,the width, and\n",
    "the height, respectively."
   ]
  },
  {
   "cell_type": "raw",
   "id": "2092e118",
   "metadata": {},
   "source": [
    "Q4.Use your image and load in notebook then, How can you find out the width and\n",
    "height of an Image object?"
   ]
  },
  {
   "cell_type": "code",
   "execution_count": null,
   "id": "b797eefe",
   "metadata": {},
   "outputs": [],
   "source": [
    "# import required module\n",
    "from PIL import Image\n",
    "\n",
    "# get image\n",
    "pic= Image.open('card.jpg')\n",
    "print(f'Width, Height -> {pic.size}')\n",
    "print(f'Width, Height -> {pic.width},{pic.height}') \n",
    "width,height = pic.size\n",
    "print(f'Width, Height -> {width},{height}')"
   ]
  },
  {
   "cell_type": "markdown",
   "id": "0834e098",
   "metadata": {},
   "source": [
    "![](rajimage.jpg)"
   ]
  },
  {
   "cell_type": "raw",
   "id": "29cddc1c",
   "metadata": {},
   "source": [
    "Q5.What method would you call to get Image object for a 100×100 image, excluding the lower-left quarter of it?"
   ]
  },
  {
   "cell_type": "markdown",
   "id": "ff477794",
   "metadata": {},
   "source": [
    "Answer:-ImageObject.crop((0, 50, 50, 50)) method can be called to get Image object for a 100×100 image,\n",
    "excluding the lower-left quarter of it."
   ]
  },
  {
   "cell_type": "code",
   "execution_count": null,
   "id": "95390b44",
   "metadata": {},
   "outputs": [],
   "source": [
    "#example program:\n",
    "from PIL import Image\n",
    "img = Image.open('card.jpg')\n",
    "new_img = img.crop((0,50,50,50))"
   ]
  },
  {
   "cell_type": "raw",
   "id": "efe66897",
   "metadata": {},
   "source": [
    "Q6.After making changes to an Image object, how could you save it as an image file?"
   ]
  },
  {
   "cell_type": "markdown",
   "id": "50fad893",
   "metadata": {},
   "source": [
    "Answer:- By Calling the imageObj.save('new_filename.png') method of the Image object, one can save it as an\n",
    "image file."
   ]
  },
  {
   "cell_type": "code",
   "execution_count": null,
   "id": "24881b04",
   "metadata": {},
   "outputs": [],
   "source": [
    "#Example Program:\n",
    "from PIL import Image\n",
    "pic = Image.open('card.jpg')\n",
    "pic.save('new_img.jpg')"
   ]
  },
  {
   "cell_type": "raw",
   "id": "fd8899cd",
   "metadata": {},
   "source": [
    "Q7.What module contains Pillow’s shape-drawing code?"
   ]
  },
  {
   "cell_type": "markdown",
   "id": "135e95a8",
   "metadata": {},
   "source": [
    "Answer:-The ImageDraw module contains code to draw on images and Pillow’s shape-drawing code too."
   ]
  },
  {
   "cell_type": "raw",
   "id": "9a67431b",
   "metadata": {},
   "source": [
    "Q8.Image objects do not have drawing methods. What kind of object does? How do you get this kind of object?"
   ]
  },
  {
   "cell_type": "markdown",
   "id": "ea4444ce",
   "metadata": {},
   "source": [
    "Answer:- ImageDraw objects have shape-drawing methods such as point() , line() , or rectangle() .They are\n",
    "returned by passing the Image object to the ImageDraw.Draw() function."
   ]
  },
  {
   "cell_type": "code",
   "execution_count": null,
   "id": "7f1b863b",
   "metadata": {},
   "outputs": [],
   "source": []
  }
 ],
 "metadata": {
  "kernelspec": {
   "display_name": "Python 3",
   "language": "python",
   "name": "python3"
  },
  "language_info": {
   "codemirror_mode": {
    "name": "ipython",
    "version": 3
   },
   "file_extension": ".py",
   "mimetype": "text/x-python",
   "name": "python",
   "nbconvert_exporter": "python",
   "pygments_lexer": "ipython3",
   "version": "3.7.6"
  }
 },
 "nbformat": 4,
 "nbformat_minor": 5
}
