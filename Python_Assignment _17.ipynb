{
 "cells": [
  {
   "cell_type": "markdown",
   "id": "b0ef5e46",
   "metadata": {},
   "source": [
    "Q1.Assign the value 7 to the variable guess_me. Then, write the conditional tests (if, else, and elif) to print the string 'too low' if guess_me is less than 7, 'too high' if greater than 7, and 'just right' if equal to 7."
   ]
  },
  {
   "cell_type": "code",
   "execution_count": 2,
   "id": "f2f38a56",
   "metadata": {},
   "outputs": [
    {
     "name": "stdout",
     "output_type": "stream",
     "text": [
      "just right\n"
     ]
    }
   ],
   "source": [
    "guess_me = 7\n",
    "if guess_me < 7:\n",
    "    print(\"too low\")\n",
    "elif guess_me > 7:\n",
    "    print(\"too high\")\n",
    "else:\n",
    "    print(\"just right\")"
   ]
  },
  {
   "cell_type": "markdown",
   "id": "00204cbf",
   "metadata": {},
   "source": [
    "Q2.Assign the value 7 to the variable guess_me and the value 1 to the variable start. Write a while loop that compares start with guess_me. Print too low if start is less than guess me. If start equals guess_me, print 'found it!' and exit the loop. If start is greater than guess_me, print 'oops' and exit the loop. Increment start at the end of the loop."
   ]
  },
  {
   "cell_type": "code",
   "execution_count": 1,
   "id": "8e0df60e",
   "metadata": {},
   "outputs": [
    {
     "name": "stdout",
     "output_type": "stream",
     "text": [
      "too low\n",
      "too low\n",
      "too low\n",
      "too low\n",
      "too low\n",
      "too low\n",
      "found it!\n"
     ]
    }
   ],
   "source": [
    "guess_me = 7\n",
    "start = 1\n",
    "\n",
    "while  True:\n",
    "    if start < guess_me:\n",
    "        print(\"too low\")\n",
    "    elif start == guess_me:\n",
    "        print(\"found it!\")\n",
    "        break\n",
    "    else:\n",
    "        print(\"oops\")\n",
    "        break\n",
    "        \n",
    "    start = start + 1"
   ]
  },
  {
   "cell_type": "markdown",
   "id": "8fa9dac5",
   "metadata": {},
   "source": [
    "Q3.Print the following values of the list [3, 2, 1, 0] using a for loop."
   ]
  },
  {
   "cell_type": "code",
   "execution_count": 2,
   "id": "96c682ff",
   "metadata": {},
   "outputs": [
    {
     "name": "stdout",
     "output_type": "stream",
     "text": [
      "3\n",
      "2\n",
      "1\n",
      "0\n"
     ]
    }
   ],
   "source": [
    "list = [3,2,1,0]\n",
    "\n",
    "for i  in list:\n",
    "    print(i)"
   ]
  },
  {
   "cell_type": "markdown",
   "id": "463079c6",
   "metadata": {},
   "source": [
    "Q4.Use a list comprehension to make a list of the even numbers in range(10)"
   ]
  },
  {
   "cell_type": "code",
   "execution_count": 3,
   "id": "38648d22",
   "metadata": {},
   "outputs": [
    {
     "data": {
      "text/plain": [
       "[0, 2, 4, 6, 8]"
      ]
     },
     "execution_count": 3,
     "metadata": {},
     "output_type": "execute_result"
    }
   ],
   "source": [
    "Even_List = [i  for i  in range(10)  if i%2 == 0]\n",
    "Even_List"
   ]
  },
  {
   "cell_type": "markdown",
   "id": "8c625d6e",
   "metadata": {},
   "source": [
    "Q5.Use a dictionary comprehension to create the dictionary squares. Use range(10) to return the keys, and use the square of each key as its value."
   ]
  },
  {
   "cell_type": "code",
   "execution_count": 4,
   "id": "1b3dce8e",
   "metadata": {},
   "outputs": [
    {
     "data": {
      "text/plain": [
       "{0: 0, 1: 1, 2: 4, 3: 9, 4: 16, 5: 25, 6: 36, 7: 49, 8: 64, 9: 81}"
      ]
     },
     "execution_count": 4,
     "metadata": {},
     "output_type": "execute_result"
    }
   ],
   "source": [
    "Squares_Dictonary = {i:i**2  for i  in range(10)}\n",
    "Squares_Dictonary"
   ]
  },
  {
   "cell_type": "markdown",
   "id": "ae892466",
   "metadata": {},
   "source": [
    "Q6.Construct the set odd from the odd numbers in the range (10) using a set comprehension."
   ]
  },
  {
   "cell_type": "code",
   "execution_count": 5,
   "id": "6959bd95",
   "metadata": {},
   "outputs": [
    {
     "data": {
      "text/plain": [
       "{1, 3, 5, 7, 9}"
      ]
     },
     "execution_count": 5,
     "metadata": {},
     "output_type": "execute_result"
    }
   ],
   "source": [
    "Odd_set = {i  for i  in range(10)  if i%2 == 1}\n",
    "Odd_set"
   ]
  },
  {
   "cell_type": "markdown",
   "id": "fc369e46",
   "metadata": {},
   "source": [
    "Q7.Use a generator comprehension to return the string 'Got ' and a number for the numbers in range(10). Iterate through this by using a for loop."
   ]
  },
  {
   "cell_type": "code",
   "execution_count": 6,
   "id": "67731548",
   "metadata": {},
   "outputs": [
    {
     "name": "stdout",
     "output_type": "stream",
     "text": [
      "Got 0\n",
      "Got 1\n",
      "Got 2\n",
      "Got 3\n",
      "Got 4\n",
      "Got 5\n",
      "Got 6\n",
      "Got 7\n",
      "Got 8\n",
      "Got 9\n"
     ]
    }
   ],
   "source": [
    "string_generator = ('Got ' + str(i)  for i  in range(10))\n",
    "for i  in string_generator:\n",
    "    print(i)"
   ]
  },
  {
   "cell_type": "markdown",
   "id": "098e2166",
   "metadata": {},
   "source": [
    "Q8.Define a function called good that returns the list ['Harry', 'Ron', 'Hermione']."
   ]
  },
  {
   "cell_type": "code",
   "execution_count": 8,
   "id": "77d37554",
   "metadata": {},
   "outputs": [
    {
     "data": {
      "text/plain": [
       "['Harry', 'Ron', 'Hermione']"
      ]
     },
     "execution_count": 8,
     "metadata": {},
     "output_type": "execute_result"
    }
   ],
   "source": [
    "def good():\n",
    "    list = ['Harry', 'Ron', 'Hermione']\n",
    "    return list\n",
    "good()"
   ]
  },
  {
   "cell_type": "markdown",
   "id": "fab29ece",
   "metadata": {},
   "source": [
    "Q9.Define a generator function called get_odds that returns the odd numbers from range(10). Use a for loop to find and print the third value returned."
   ]
  },
  {
   "cell_type": "code",
   "execution_count": 12,
   "id": "e0dafd86",
   "metadata": {},
   "outputs": [
    {
     "name": "stdout",
     "output_type": "stream",
     "text": [
      "The third value returned from the function get_odds is  5\n"
     ]
    }
   ],
   "source": [
    "def get_odds():\n",
    "    for i  in range(10):\n",
    "        if i%2 == 1:\n",
    "            yield i\n",
    "count = 1\n",
    "\n",
    "for i  in get_odds():\n",
    "    if count == 3:\n",
    "        print(\"The third value returned from the function get_odds is \",i)\n",
    "        break\n",
    "    \n",
    "    count = count + 1"
   ]
  },
  {
   "cell_type": "markdown",
   "id": "fea0722a",
   "metadata": {},
   "source": [
    "Q10.Define an exception called OopsException. Raise this exception to see what happens. Then write the code to catch this exception and print 'Caught an oops'."
   ]
  },
  {
   "cell_type": "code",
   "execution_count": 13,
   "id": "1ac0c09c",
   "metadata": {},
   "outputs": [
    {
     "name": "stdout",
     "output_type": "stream",
     "text": [
      "Caught an oops\n"
     ]
    }
   ],
   "source": [
    "class  OopsException( Exception):\n",
    "    pass\n",
    "\n",
    "def Exception_Raiser(number):\n",
    "    if number < 0:\n",
    "        raise OopsException(number)\n",
    "    \n",
    "try:\n",
    "    Exception_Raiser(-32453445)\n",
    "except OopsException  as OE:\n",
    "        print('Caught an oops')"
   ]
  },
  {
   "cell_type": "markdown",
   "id": "a45fba85",
   "metadata": {},
   "source": [
    "Q11.Use zip() to make a dictionary called movies that pairs these lists: titles = ['Creature of Habit', 'Crewel Fate'] and plots = ['A nun turns into a monster','A haunted yarn shop']."
   ]
  },
  {
   "cell_type": "code",
   "execution_count": 14,
   "id": "60b5610b",
   "metadata": {},
   "outputs": [
    {
     "data": {
      "text/plain": [
       "{'Creature of Habit': 'A nun turns into a monster',\n",
       " 'Crewel Fate': 'A haunted yarn shop'}"
      ]
     },
     "execution_count": 14,
     "metadata": {},
     "output_type": "execute_result"
    }
   ],
   "source": [
    "titles = ['Creature of Habit', 'Crewel Fate']\n",
    "plots = ['A nun turns into a monster','A haunted yarn shop']\n",
    "\n",
    "movies = dict(zip(titles,plots))\n",
    "\n",
    "movies"
   ]
  },
  {
   "cell_type": "code",
   "execution_count": null,
   "id": "b7528162",
   "metadata": {},
   "outputs": [],
   "source": []
  },
  {
   "cell_type": "code",
   "execution_count": null,
   "id": "759c053a",
   "metadata": {},
   "outputs": [],
   "source": []
  }
 ],
 "metadata": {
  "kernelspec": {
   "display_name": "Python 3",
   "language": "python",
   "name": "python3"
  },
  "language_info": {
   "codemirror_mode": {
    "name": "ipython",
    "version": 3
   },
   "file_extension": ".py",
   "mimetype": "text/x-python",
   "name": "python",
   "nbconvert_exporter": "python",
   "pygments_lexer": "ipython3",
   "version": "3.7.6"
  }
 },
 "nbformat": 4,
 "nbformat_minor": 5
}
