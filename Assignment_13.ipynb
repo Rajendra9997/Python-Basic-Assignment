{
 "cells": [
  {
   "cell_type": "markdown",
   "id": "846433dc",
   "metadata": {},
   "source": [
    "Q1.What advantages do Excel spreadsheets have over CSV spreadsheets?"
   ]
  },
  {
   "cell_type": "markdown",
   "id": "3389122d",
   "metadata": {},
   "source": [
    "Answer :- Excel spreadsheets is more superior when compared with the CSV spreadsheets file format; thus, CSV consumes less amount of file size when the user is importing data; it is a much faster format compared to excel. CSV spreadsheets does not manipulate data and stores it as-is. Excel spreadsheets also allows the user the add-in feature."
   ]
  },
  {
   "cell_type": "markdown",
   "id": "71a1d0ed",
   "metadata": {},
   "source": [
    "Q2.What do you pass to csv.reader() and csv.writer() to create reader and writer objects?"
   ]
  },
  {
   "cell_type": "markdown",
   "id": "949a8b38",
   "metadata": {},
   "source": [
    "Answer:-The csv. writer() function returns a writer object that converts the user's data into a delimited string. This string can later be used to write into CSV files using the writerow() function."
   ]
  },
  {
   "cell_type": "markdown",
   "id": "a96509ce",
   "metadata": {},
   "source": [
    "Q3.What modes do File objects for reader and writer objects need to be opened in?"
   ]
  },
  {
   "cell_type": "markdown",
   "id": "b00708ac",
   "metadata": {},
   "source": [
    "Answer:- In order to open a file for reading or writing purposes, we must use the built-in open() function. The open() function uses two arguments. First is the name of the file and second is for what purpose we want to open it."
   ]
  },
  {
   "cell_type": "markdown",
   "id": "bf319be5",
   "metadata": {},
   "source": [
    "Q4.What method takes a list argument and writes it to a CSV file?"
   ]
  },
  {
   "cell_type": "markdown",
   "id": "616933ce",
   "metadata": {},
   "source": [
    "Answer:- writerows()"
   ]
  },
  {
   "cell_type": "markdown",
   "id": "a62cac6a",
   "metadata": {},
   "source": [
    "Q5.What do the keyword arguments delimiter and line terminator do?"
   ]
  },
  {
   "cell_type": "markdown",
   "id": "bf655d72",
   "metadata": {},
   "source": [
    "Answer:-The  keyword delimiter is the character that appears between cells on a row. By default, the delimiter for a CSV file is a comma. The line terminator is the character that comes at the end of a row. By default, the line terminator is a newline."
   ]
  },
  {
   "cell_type": "markdown",
   "id": "fbd8d81e",
   "metadata": {},
   "source": [
    "Q6.What function takes a string of JSON data and returns a Python data structure?"
   ]
  },
  {
   "cell_type": "markdown",
   "id": "3304a9c9",
   "metadata": {},
   "source": [
    "Answer:- json.loads() method return Python data structure of JSON string or data."
   ]
  },
  {
   "cell_type": "markdown",
   "id": "ce4936d6",
   "metadata": {},
   "source": [
    "Q7.What function takes a Python data structure and returns a string of JSON data?"
   ]
  },
  {
   "cell_type": "markdown",
   "id": "a917b4e3",
   "metadata": {},
   "source": [
    "Answer:- use the json.loads() function"
   ]
  },
  {
   "cell_type": "code",
   "execution_count": null,
   "id": "b73d3782",
   "metadata": {},
   "outputs": [],
   "source": []
  }
 ],
 "metadata": {
  "kernelspec": {
   "display_name": "Python 3",
   "language": "python",
   "name": "python3"
  },
  "language_info": {
   "codemirror_mode": {
    "name": "ipython",
    "version": 3
   },
   "file_extension": ".py",
   "mimetype": "text/x-python",
   "name": "python",
   "nbconvert_exporter": "python",
   "pygments_lexer": "ipython3",
   "version": "3.7.6"
  }
 },
 "nbformat": 4,
 "nbformat_minor": 5
}
