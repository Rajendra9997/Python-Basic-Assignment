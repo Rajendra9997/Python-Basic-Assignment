{
 "cells": [
  {
   "cell_type": "markdown",
   "id": "2e40fd5b",
   "metadata": {},
   "source": [
    "Q1.How many seconds are in an hour? Use the interactive interpreter as a calculator and multiply the number of seconds in a minute (60) by the number of minutes in an hour (also 60)."
   ]
  },
  {
   "cell_type": "code",
   "execution_count": 1,
   "id": "2c363f80",
   "metadata": {},
   "outputs": [
    {
     "data": {
      "text/plain": [
       "3600"
      ]
     },
     "execution_count": 1,
     "metadata": {},
     "output_type": "execute_result"
    }
   ],
   "source": [
    "Minutes_Per_Hour = 60\n",
    "Seconds_Per_Minute = 60\n",
    "Minutes_Per_Hour * Seconds_Per_Minute"
   ]
  },
  {
   "cell_type": "markdown",
   "id": "6885867c",
   "metadata": {},
   "source": [
    "Q2.Assign the result from the previous task (seconds in an hour) to a variable called seconds_per_hour."
   ]
  },
  {
   "cell_type": "code",
   "execution_count": 4,
   "id": "d747ade8",
   "metadata": {},
   "outputs": [],
   "source": [
    "Seconds_Per_Hour = 3600"
   ]
  },
  {
   "cell_type": "markdown",
   "id": "66ff99d1",
   "metadata": {},
   "source": [
    "Q3.How many seconds do you think there are in a day? Make use of the variables seconds per hour and minutes per hour."
   ]
  },
  {
   "cell_type": "code",
   "execution_count": 5,
   "id": "567b3919",
   "metadata": {},
   "outputs": [
    {
     "data": {
      "text/plain": [
       "86400"
      ]
     },
     "execution_count": 5,
     "metadata": {},
     "output_type": "execute_result"
    }
   ],
   "source": [
    "Hours_Per_Day = 24\n",
    "\n",
    "Seconds_Per_Hour * Hours_Per_Day"
   ]
  },
  {
   "cell_type": "markdown",
   "id": "5a970739",
   "metadata": {},
   "source": [
    "Q4.Calculate seconds per day again, but this time save the result in a variable called seconds_per_day."
   ]
  },
  {
   "cell_type": "code",
   "execution_count": 6,
   "id": "aa942ca3",
   "metadata": {},
   "outputs": [
    {
     "data": {
      "text/plain": [
       "86400"
      ]
     },
     "execution_count": 6,
     "metadata": {},
     "output_type": "execute_result"
    }
   ],
   "source": [
    "Hours_Per_Day = 24\n",
    "\n",
    "Seconds_Per_Day = Seconds_Per_Hour * Hours_Per_Day\n",
    "Seconds_Per_Day"
   ]
  },
  {
   "cell_type": "markdown",
   "id": "99d60489",
   "metadata": {},
   "source": [
    "Q5.Divide seconds_per_day by seconds_per_hour. Use floating-point (/) division."
   ]
  },
  {
   "cell_type": "code",
   "execution_count": 7,
   "id": "7cdb9ccc",
   "metadata": {},
   "outputs": [
    {
     "data": {
      "text/plain": [
       "24.0"
      ]
     },
     "execution_count": 7,
     "metadata": {},
     "output_type": "execute_result"
    }
   ],
   "source": [
    "Seconds_Per_Day/Seconds_Per_Hour"
   ]
  },
  {
   "cell_type": "markdown",
   "id": "b3e8dc9a",
   "metadata": {},
   "source": [
    "Q6.Divide seconds_per_day by seconds_per_hour, using integer (//) division. Did this number agree with the floating-point value from the previous question, aside from the final .0?"
   ]
  },
  {
   "cell_type": "code",
   "execution_count": 8,
   "id": "3ac4fa62",
   "metadata": {},
   "outputs": [
    {
     "data": {
      "text/plain": [
       "24"
      ]
     },
     "execution_count": 8,
     "metadata": {},
     "output_type": "execute_result"
    }
   ],
   "source": [
    "Seconds_Per_Day//Seconds_Per_Hour"
   ]
  },
  {
   "cell_type": "markdown",
   "id": "3255bc5c",
   "metadata": {},
   "source": [
    "Yes, the number in the above result agreed with the floating-point value from the previous question, aside from\n",
    "the final .0"
   ]
  },
  {
   "cell_type": "markdown",
   "id": "ad21b24f",
   "metadata": {},
   "source": [
    "Q7.Write a generator, genPrimes, that returns the sequence of prime numbers on successive calls to its next() method: 2, 3, 5, 7, 11, ..."
   ]
  },
  {
   "cell_type": "code",
   "execution_count": 9,
   "id": "c955942f",
   "metadata": {},
   "outputs": [],
   "source": [
    "def genPrimes():\n",
    "    \n",
    "    Sequence_Of_Prime_Numbers = []\n",
    "    n = 2\n",
    "    Last_Number_Checked = n\n",
    "    \n",
    "    while True:\n",
    "        for i in Sequence_Of_Prime_Numbers:\n",
    "            if n % i == 0:\n",
    "                n = n + 1\n",
    "                break\n",
    "        else:\n",
    "            Sequence_Of_Prime_Numbers.append(n)\n",
    "            Last_Number_Checked = n\n",
    "            n = n + 1\n",
    "            yield Sequence_Of_Prime_Numbers\n",
    "p = genPrimes()"
   ]
  },
  {
   "cell_type": "code",
   "execution_count": 10,
   "id": "171cb368",
   "metadata": {},
   "outputs": [
    {
     "data": {
      "text/plain": [
       "[2]"
      ]
     },
     "execution_count": 10,
     "metadata": {},
     "output_type": "execute_result"
    }
   ],
   "source": [
    "next(p)"
   ]
  },
  {
   "cell_type": "code",
   "execution_count": 11,
   "id": "9d72873e",
   "metadata": {},
   "outputs": [
    {
     "data": {
      "text/plain": [
       "[2, 3]"
      ]
     },
     "execution_count": 11,
     "metadata": {},
     "output_type": "execute_result"
    }
   ],
   "source": [
    "next(p)"
   ]
  },
  {
   "cell_type": "code",
   "execution_count": 12,
   "id": "e50a80ca",
   "metadata": {},
   "outputs": [
    {
     "data": {
      "text/plain": [
       "[2, 3, 5]"
      ]
     },
     "execution_count": 12,
     "metadata": {},
     "output_type": "execute_result"
    }
   ],
   "source": [
    "next(p)"
   ]
  },
  {
   "cell_type": "code",
   "execution_count": 13,
   "id": "12d8452b",
   "metadata": {},
   "outputs": [
    {
     "data": {
      "text/plain": [
       "[2, 3, 5, 7]"
      ]
     },
     "execution_count": 13,
     "metadata": {},
     "output_type": "execute_result"
    }
   ],
   "source": [
    "next(p)"
   ]
  },
  {
   "cell_type": "code",
   "execution_count": 14,
   "id": "52fa9842",
   "metadata": {},
   "outputs": [
    {
     "data": {
      "text/plain": [
       "[2, 3, 5, 7, 11]"
      ]
     },
     "execution_count": 14,
     "metadata": {},
     "output_type": "execute_result"
    }
   ],
   "source": [
    "next(p)"
   ]
  },
  {
   "cell_type": "code",
   "execution_count": 15,
   "id": "24ea03d8",
   "metadata": {},
   "outputs": [
    {
     "data": {
      "text/plain": [
       "[2, 3, 5, 7, 11, 13]"
      ]
     },
     "execution_count": 15,
     "metadata": {},
     "output_type": "execute_result"
    }
   ],
   "source": [
    "next(p)"
   ]
  },
  {
   "cell_type": "code",
   "execution_count": null,
   "id": "bb8e6851",
   "metadata": {},
   "outputs": [],
   "source": []
  }
 ],
 "metadata": {
  "kernelspec": {
   "display_name": "Python 3",
   "language": "python",
   "name": "python3"
  },
  "language_info": {
   "codemirror_mode": {
    "name": "ipython",
    "version": 3
   },
   "file_extension": ".py",
   "mimetype": "text/x-python",
   "name": "python",
   "nbconvert_exporter": "python",
   "pygments_lexer": "ipython3",
   "version": "3.7.6"
  }
 },
 "nbformat": 4,
 "nbformat_minor": 5
}
